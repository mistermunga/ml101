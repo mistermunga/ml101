{
 "cells": [
  {
   "metadata": {},
   "cell_type": "markdown",
   "source": [
    "Comparing accuracy of a KNN model between different Train/Test splits\n",
    "\n",
    "First we begin by creating an overview of the dataset to gain a better understanding."
   ],
   "id": "6d3ab40d3ac98328"
  },
  {
   "metadata": {
    "ExecuteTime": {
     "end_time": "2024-07-20T10:55:51.722468Z",
     "start_time": "2024-07-20T10:55:51.656603Z"
    }
   },
   "cell_type": "code",
   "source": [
    "from sklearn.datasets import load_digits\n",
    "\n",
    "digits = load_digits()"
   ],
   "id": "1005de9256f63208",
   "outputs": [],
   "execution_count": 52
  },
  {
   "metadata": {
    "ExecuteTime": {
     "end_time": "2024-07-20T10:55:53.366985Z",
     "start_time": "2024-07-20T10:55:51.775492Z"
    }
   },
   "cell_type": "code",
   "source": [
    "import matplotlib.pyplot as plt\n",
    "\n",
    "\n",
    "figure, axes=plt.subplots(nrows=4, ncols=6, figsize=(6,4))\n",
    "\n",
    "for item in zip(axes.ravel(),digits.images, digits.target):\n",
    "    axes,image,target =item\n",
    "    axes.imshow(image, cmap=plt.cm.gray_r)\n",
    "    axes.set_xticks([])\n",
    "    axes.set_yticks([])\n",
    "    axes.set_title(target)\n",
    "plt.tight_layout()"
   ],
   "id": "dd7075e61fef98a3",
   "outputs": [
    {
     "data": {
      "text/plain": [
       "<Figure size 600x400 with 24 Axes>"
      ],
      "image/png": "[encoded data removed]"
     },
     "metadata": {},
     "output_type": "display_data"
    }
   ],
   "execution_count": 53
  },
  {
   "metadata": {},
   "cell_type": "markdown",
   "source": [
    "Next we split the data.\n",
    "\n",
    "We begin with a standard 7:3 split.\n",
    "\n",
    "X_train, y_train: training data and target values --> 70% of the data\n",
    "\n",
    "X_test, y_test: testing data and target values --> 30% of the data\n"
   ],
   "id": "5e8aee322e4911e2"
  },
  {
   "metadata": {
    "ExecuteTime": {
     "end_time": "2024-07-20T10:55:53.382783Z",
     "start_time": "2024-07-20T10:55:53.370037Z"
    }
   },
   "cell_type": "code",
   "source": [
    "from sklearn.model_selection import train_test_split\n",
    "from sklearn.metrics import accuracy_score\n",
    "from sklearn.metrics import classification_report\n",
    "from sklearn.metrics import confusion_matrix\n",
    "import pandas as pd\n",
    "\n",
    "from sklearn.neighbors import KNeighborsClassifier"
   ],
   "id": "a492212ecfdc8861",
   "outputs": [],
   "execution_count": 54
  },
  {
   "metadata": {
    "ExecuteTime": {
     "end_time": "2024-07-20T10:55:53.398823Z",
     "start_time": "2024-07-20T10:55:53.384730Z"
    }
   },
   "cell_type": "code",
   "source": "X_train, X_test, y_train, y_test = train_test_split(digits.data , digits.target, test_size=0.3, random_state=11)",
   "id": "169a473485925da4",
   "outputs": [],
   "execution_count": 55
  },
  {
   "metadata": {
    "ExecuteTime": {
     "end_time": "2024-07-20T10:55:53.430527Z",
     "start_time": "2024-07-20T10:55:53.401609Z"
    }
   },
   "cell_type": "code",
   "source": [
    "# Training the model:\n",
    "\n",
    "knn = KNeighborsClassifier()\n",
    "knn.fit(X_train, y_train)\n",
    "predictions = knn.predict(X_test)"
   ],
   "id": "3bb7183d8f6a8871",
   "outputs": [],
   "execution_count": 56
  },
  {
   "metadata": {
    "ExecuteTime": {
     "end_time": "2024-07-20T10:55:53.478424Z",
     "start_time": "2024-07-20T10:55:53.431634Z"
    }
   },
   "cell_type": "code",
   "source": [
    "accuracy = accuracy_score(y_test, predictions)\n",
    "matrix = confusion_matrix(y_test, predictions)\n",
    "report = classification_report(y_test, predictions)\n",
    "\n",
    "matrix_df = pd.DataFrame(matrix)\n",
    "\n",
    "print(f'Accuracy: {accuracy:.6%}')\n",
    "print(f'Confusion Matrix: \\n {matrix}')"
   ],
   "id": "881e02747b658daf",
   "outputs": [
    {
     "name": "stdout",
     "output_type": "stream",
     "text": [
      "Accuracy: 97.777778%\n",
      "Confusion Matrix: \n",
      " [[49  0  0  0  0  0  0  0  0  0]\n",
      " [ 0 54  0  0  0  0  0  0  0  0]\n",
      " [ 0  0 61  0  0  0  0  0  0  0]\n",
      " [ 0  0  0 53  0  1  0  1  0  0]\n",
      " [ 0  0  0  0 57  0  0  1  0  0]\n",
      " [ 0  0  0  0  0 51  0  0  0  0]\n",
      " [ 0  0  0  0  0  0 57  0  0  0]\n",
      " [ 0  0  0  0  0  0  0 52  0  0]\n",
      " [ 0  3  1  2  0  0  0  0 44  1]\n",
      " [ 0  0  0  0  1  0  0  0  1 50]]\n"
     ]
    }
   ],
   "execution_count": 57
  },
  {
   "metadata": {
    "ExecuteTime": {
     "end_time": "2024-07-20T10:55:53.494087Z",
     "start_time": "2024-07-20T10:55:53.482513Z"
    }
   },
   "cell_type": "code",
   "source": "print(f'Classification Report: \\n {report}')",
   "id": "e143282d8bbe605a",
   "outputs": [
    {
     "name": "stdout",
     "output_type": "stream",
     "text": [
      "Classification Report: \n",
      "               precision    recall  f1-score   support\n",
      "\n",
      "           0       1.00      1.00      1.00        49\n",
      "           1       0.95      1.00      0.97        54\n",
      "           2       0.98      1.00      0.99        61\n",
      "           3       0.96      0.96      0.96        55\n",
      "           4       0.98      0.98      0.98        58\n",
      "           5       0.98      1.00      0.99        51\n",
      "           6       1.00      1.00      1.00        57\n",
      "           7       0.96      1.00      0.98        52\n",
      "           8       0.98      0.86      0.92        51\n",
      "           9       0.98      0.96      0.97        52\n",
      "\n",
      "    accuracy                           0.98       540\n",
      "   macro avg       0.98      0.98      0.98       540\n",
      "weighted avg       0.98      0.98      0.98       540\n",
      "\n"
     ]
    }
   ],
   "execution_count": 58
  },
  {
   "metadata": {},
   "cell_type": "markdown",
   "source": "Next: 50 - 50 train - test split",
   "id": "397e83bc2cc9d4c2"
  },
  {
   "metadata": {
    "ExecuteTime": {
     "end_time": "2024-07-20T10:55:53.541798Z",
     "start_time": "2024-07-20T10:55:53.494087Z"
    }
   },
   "cell_type": "code",
   "source": [
    "X_train, X_test, y_train, y_test = train_test_split(digits.data , digits.target, test_size=0.5, random_state=11)\n",
    "\n",
    "knn = KNeighborsClassifier()\n",
    "knn.fit(X_train, y_train)\n",
    "predictions = knn.predict(X_test)\n",
    "accuracy = accuracy_score(y_test, predictions)\n",
    "matrix = confusion_matrix(y_test, predictions)\n",
    "report = classification_report(y_test, predictions)\n",
    "\n",
    "matrix_df = pd.DataFrame(matrix)"
   ],
   "id": "332b2077b200ad9a",
   "outputs": [],
   "execution_count": 59
  },
  {
   "metadata": {
    "ExecuteTime": {
     "end_time": "2024-07-20T10:55:53.557697Z",
     "start_time": "2024-07-20T10:55:53.541798Z"
    }
   },
   "cell_type": "code",
   "source": [
    "print(f'Accuracy: {accuracy:.6%}')\n",
    "print(f'Confusion Matrix: \\n {matrix}')"
   ],
   "id": "58dcb8b139165171",
   "outputs": [
    {
     "name": "stdout",
     "output_type": "stream",
     "text": [
      "Accuracy: 97.775306%\n",
      "Confusion Matrix: \n",
      " [[86  0  0  0  0  0  0  0  0  0]\n",
      " [ 0 89  0  0  0  1  0  0  0  0]\n",
      " [ 0  0 87  1  0  0  0  0  0  0]\n",
      " [ 0  0  0 93  0  1  0  1  0  0]\n",
      " [ 0  0  0  0 99  0  0  1  0  0]\n",
      " [ 0  0  0  0  0 98  0  0  0  1]\n",
      " [ 0  0  0  0  0  0 84  0  0  0]\n",
      " [ 0  0  0  0  0  0  0 84  0  0]\n",
      " [ 0  5  0  3  0  0  1  0 79  1]\n",
      " [ 0  0  0  0  1  0  0  1  2 80]]\n"
     ]
    }
   ],
   "execution_count": 60
  },
  {
   "metadata": {
    "ExecuteTime": {
     "end_time": "2024-07-20T10:55:53.573597Z",
     "start_time": "2024-07-20T10:55:53.561742Z"
    }
   },
   "cell_type": "code",
   "source": "print(f'Classification Report: \\n {report}')",
   "id": "5e4d789c3ae4a0fd",
   "outputs": [
    {
     "name": "stdout",
     "output_type": "stream",
     "text": [
      "Classification Report: \n",
      "               precision    recall  f1-score   support\n",
      "\n",
      "           0       1.00      1.00      1.00        86\n",
      "           1       0.95      0.99      0.97        90\n",
      "           2       1.00      0.99      0.99        88\n",
      "           3       0.96      0.98      0.97        95\n",
      "           4       0.99      0.99      0.99       100\n",
      "           5       0.98      0.99      0.98        99\n",
      "           6       0.99      1.00      0.99        84\n",
      "           7       0.97      1.00      0.98        84\n",
      "           8       0.98      0.89      0.93        89\n",
      "           9       0.98      0.95      0.96        84\n",
      "\n",
      "    accuracy                           0.98       899\n",
      "   macro avg       0.98      0.98      0.98       899\n",
      "weighted avg       0.98      0.98      0.98       899\n",
      "\n"
     ]
    }
   ],
   "execution_count": 61
  },
  {
   "metadata": {},
   "cell_type": "markdown",
   "source": [
    "Next: a 30 - 70 Train - test split\n",
    "\n",
    "an inversion of the first split"
   ],
   "id": "58e5160c7102293d"
  },
  {
   "metadata": {
    "ExecuteTime": {
     "end_time": "2024-07-20T10:55:53.637480Z",
     "start_time": "2024-07-20T10:55:53.574728Z"
    }
   },
   "cell_type": "code",
   "source": [
    "X_train, X_test, y_train, y_test = train_test_split(digits.data , digits.target, test_size=0.7, random_state=11)\n",
    "\n",
    "knn = KNeighborsClassifier()\n",
    "knn.fit(X_train, y_train)\n",
    "predictions = knn.predict(X_test)\n",
    "accuracy = accuracy_score(y_test, predictions)\n",
    "matrix = confusion_matrix(y_test, predictions)\n",
    "report = classification_report(y_test, predictions)\n",
    "\n",
    "matrix_df = pd.DataFrame(matrix)"
   ],
   "id": "ed6344f67bbd7512",
   "outputs": [],
   "execution_count": 62
  },
  {
   "metadata": {
    "ExecuteTime": {
     "end_time": "2024-07-20T10:56:10.291976Z",
     "start_time": "2024-07-20T10:56:10.275976Z"
    }
   },
   "cell_type": "code",
   "source": [
    "print(f'Accuracy: {accuracy:.6%}')\n",
    "print(f'Confusion Matrix: \\n {matrix}')"
   ],
   "id": "18951f39c45e1c8",
   "outputs": [
    {
     "name": "stdout",
     "output_type": "stream",
     "text": [
      "Accuracy: 96.343402%\n",
      "Confusion Matrix: \n",
      " [[121   0   0   0   0   0   0   0   0   0]\n",
      " [  0 129   0   0   0   0   0   0   0   0]\n",
      " [  1   2 127   0   0   0   0   1   4   0]\n",
      " [  0   0   0 118   0   1   1   1   0   0]\n",
      " [  0   1   0   0 129   0   0   3   0   0]\n",
      " [  0   0   0   0   0 130   0   0   0   6]\n",
      " [  0   0   0   0   0   0 123   0   1   0]\n",
      " [  0   0   0   0   0   0   0 124   0   0]\n",
      " [  0   7   1   2   0   0   2   1 104   2]\n",
      " [  0   0   0   0   0   1   0   6   2 107]]\n"
     ]
    }
   ],
   "execution_count": 63
  },
  {
   "metadata": {
    "ExecuteTime": {
     "end_time": "2024-07-20T10:56:33.158640Z",
     "start_time": "2024-07-20T10:56:33.143976Z"
    }
   },
   "cell_type": "code",
   "source": "print(f'Classification Report: \\n {report}')",
   "id": "c707a8a420bdfc9",
   "outputs": [
    {
     "name": "stdout",
     "output_type": "stream",
     "text": [
      "Classification Report: \n",
      "               precision    recall  f1-score   support\n",
      "\n",
      "           0       0.99      1.00      1.00       121\n",
      "           1       0.93      1.00      0.96       129\n",
      "           2       0.99      0.94      0.97       135\n",
      "           3       0.98      0.98      0.98       121\n",
      "           4       1.00      0.97      0.98       133\n",
      "           5       0.98      0.96      0.97       136\n",
      "           6       0.98      0.99      0.98       124\n",
      "           7       0.91      1.00      0.95       124\n",
      "           8       0.94      0.87      0.90       119\n",
      "           9       0.93      0.92      0.93       116\n",
      "\n",
      "    accuracy                           0.96      1258\n",
      "   macro avg       0.96      0.96      0.96      1258\n",
      "weighted avg       0.96      0.96      0.96      1258\n",
      "\n"
     ]
    }
   ],
   "execution_count": 64
  },
  {
   "metadata": {},
   "cell_type": "markdown",
   "source": "Lastly, a 5 - 95 Train - test split:",
   "id": "42fc66668e9d4b18"
  },
  {
   "metadata": {
    "ExecuteTime": {
     "end_time": "2024-07-20T10:57:55.376030Z",
     "start_time": "2024-07-20T10:57:55.325988Z"
    }
   },
   "cell_type": "code",
   "source": [
    "X_train, X_test, y_train, y_test = train_test_split(digits.data , digits.target, test_size=0.95, random_state=11)\n",
    "\n",
    "knn = KNeighborsClassifier()\n",
    "knn.fit(X_train, y_train)\n",
    "predictions = knn.predict(X_test)\n",
    "accuracy = accuracy_score(y_test, predictions)\n",
    "matrix = confusion_matrix(y_test, predictions)\n",
    "report = classification_report(y_test, predictions)\n",
    "\n",
    "matrix_df = pd.DataFrame(matrix)"
   ],
   "id": "2bfb03d6ebea88b7",
   "outputs": [],
   "execution_count": 65
  },
  {
   "metadata": {
    "ExecuteTime": {
     "end_time": "2024-07-20T10:58:07.460738Z",
     "start_time": "2024-07-20T10:58:07.449859Z"
    }
   },
   "cell_type": "code",
   "source": [
    "print(f'Accuracy: {accuracy:.6%}')\n",
    "print(f'Confusion Matrix: \\n {matrix}')"
   ],
   "id": "f3e3d10cdbc735a1",
   "outputs": [
    {
     "name": "stdout",
     "output_type": "stream",
     "text": [
      "Accuracy: 85.187354%\n",
      "Confusion Matrix: \n",
      " [[165   0   0   0   1   0   0   0   0   0]\n",
      " [  0 141   9   0   8   0   0   0   5  10]\n",
      " [  1   8 124   7   0   0   0   1  30   1]\n",
      " [  1   0   1 144   0   6   0   1   2  18]\n",
      " [  2   6   0   0 163   0   0   0   1   0]\n",
      " [  4   1   0   0   2 142   0   0   2  22]\n",
      " [  3   9   0   0   0   3 160   0   0   0]\n",
      " [  0   7   0   5   5   0   0 144  11   0]\n",
      " [  1  13   0   2   1   3   2   1 137   1]\n",
      " [  1   1   0   4  11   3   0   9   7 135]]\n"
     ]
    }
   ],
   "execution_count": 66
  },
  {
   "metadata": {
    "ExecuteTime": {
     "end_time": "2024-07-20T10:58:15.005057Z",
     "start_time": "2024-07-20T10:58:14.989083Z"
    }
   },
   "cell_type": "code",
   "source": "print(f'Classification Report: \\n {report}')",
   "id": "d16ff8e5aa141276",
   "outputs": [
    {
     "name": "stdout",
     "output_type": "stream",
     "text": [
      "Classification Report: \n",
      "               precision    recall  f1-score   support\n",
      "\n",
      "           0       0.93      0.99      0.96       166\n",
      "           1       0.76      0.82      0.79       173\n",
      "           2       0.93      0.72      0.81       172\n",
      "           3       0.89      0.83      0.86       173\n",
      "           4       0.85      0.95      0.90       172\n",
      "           5       0.90      0.82      0.86       173\n",
      "           6       0.99      0.91      0.95       175\n",
      "           7       0.92      0.84      0.88       172\n",
      "           8       0.70      0.85      0.77       161\n",
      "           9       0.72      0.79      0.75       171\n",
      "\n",
      "    accuracy                           0.85      1708\n",
      "   macro avg       0.86      0.85      0.85      1708\n",
      "weighted avg       0.86      0.85      0.85      1708\n",
      "\n"
     ]
    }
   ],
   "execution_count": 67
  },
  {
   "metadata": {
    "ExecuteTime": {
     "end_time": "2024-07-20T11:10:56.297076Z",
     "start_time": "2024-07-20T11:10:56.284314Z"
    }
   },
   "cell_type": "code",
   "source": [
    "'''\n",
    "Observations:\n",
    "\n",
    "As the test-split grew accuracy decreased. At first, the differences are small:\n",
    "\n",
    "70-30 split: 97.777778%\n",
    "50-50 split: 97.775306%\n",
    "30-70 split: 96.343402%\n",
    "\n",
    "note there is a 40 point decrease of the Training set share\n",
    "'''\n",
    "\n",
    "deviation = 97.777778 - 96.343402 # highest minus lowest accuracies\n",
    "print(deviation)"
   ],
   "id": "4a44aaad7e00e893",
   "outputs": [
    {
     "name": "stdout",
     "output_type": "stream",
     "text": [
      "1.4343760000000003\n"
     ]
    }
   ],
   "execution_count": 68
  },
  {
   "metadata": {
    "ExecuteTime": {
     "end_time": "2024-07-20T11:24:21.811147Z",
     "start_time": "2024-07-20T11:24:21.795517Z"
    }
   },
   "cell_type": "code",
   "source": [
    "'''\n",
    "with a deviation of 1.4343760000000003% between the highest and the lowest accuracy,\n",
    "I personally doubt the difference is noticeable in practice. \n",
    "note there is a 40 point decrease of the Training set share only to yield a < 1.5 pc point difference\n",
    "\n",
    "However, with the last split, 5-95 Train-Test split, the accuracy noticeably dips\n",
    "to 85.187354\n",
    "'''\n",
    "\n",
    "deviation = 97.777778 - 85.187354 # highest to lowest\n",
    "deviation2 = 96.343402 - 85.187354 # 30-70 split to 5-95 split\n",
    "\n",
    "print(f'deviation from highest to lowest: {deviation}')\n",
    "print(f'deviation from 30-70 to lowest: {deviation2}')"
   ],
   "id": "8bebe0054e0d437a",
   "outputs": [
    {
     "name": "stdout",
     "output_type": "stream",
     "text": [
      "deviation from highest to lowest: 12.590423999999999\n",
      "deviation from 30-70 to lowest: 11.156047999999998\n"
     ]
    }
   ],
   "execution_count": 70
  },
  {
   "metadata": {},
   "cell_type": "code",
   "outputs": [],
   "execution_count": null,
   "source": [
    "'''\n",
    "note that this time there is a 25 point decrease of the Training set share yielding an 11 pc point difference\n",
    "compared to the previous 40 point decrease leading to a < 1.5 pc point difference\n",
    "\n",
    "We can therefore come to the conclusion that:\n",
    "a) accuracy drops as Training split shrinks, and,\n",
    "b) the drop in accuracy is not linear\n",
    "\n",
    "This is also reflected in the confusion matrices and the classification reports\n",
    "\n",
    "'''"
   ],
   "id": "a70ed4b4ec0194ae"
  }
 ],
 "metadata": {
  "kernelspec": {
   "display_name": "Python 3",
   "language": "python",
   "name": "python3"
  },
  "language_info": {
   "codemirror_mode": {
    "name": "ipython",
    "version": 2
   },
   "file_extension": ".py",
   "mimetype": "text/x-python",
   "name": "python",
   "nbconvert_exporter": "python",
   "pygments_lexer": "ipython2",
   "version": "2.7.6"
  }
 },
 "nbformat": 4,
 "nbformat_minor": 5
}
