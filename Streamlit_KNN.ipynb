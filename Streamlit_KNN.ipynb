{
 "cells": [
  {
   "cell_type": "code",
   "id": "initial_id",
   "metadata": {
    "collapsed": true,
    "ExecuteTime": {
     "end_time": "2024-07-23T11:45:00.206633Z",
     "start_time": "2024-07-23T11:44:57.570309Z"
    }
   },
   "source": [
    "import pandas as pd\n",
    "import streamlit as st\n",
    "from sklearn.neighbors import KNeighborsClassifier\n",
    "from sklearn.model_selection import train_test_split\n",
    "from sklearn.metrics import accuracy_score\n",
    "from sklearn.metrics import confusion_matrix\n",
    "from sklearn.metrics import classification_report\n",
    "\n",
    "filepath = r\"C:\\Users\\Ryan\\Desktop\\summer 24\\AI\\datasetstuff\\content\\Iris_Data.csv\""
   ],
   "outputs": [],
   "execution_count": 3
  },
  {
   "metadata": {
    "ExecuteTime": {
     "end_time": "2024-07-23T11:45:00.237878Z",
     "start_time": "2024-07-23T11:45:00.206633Z"
    }
   },
   "cell_type": "code",
   "source": "dataframe1 = pd.read_csv(filepath)",
   "id": "7c8195496c8e3c4e",
   "outputs": [],
   "execution_count": 4
  },
  {
   "metadata": {
    "ExecuteTime": {
     "end_time": "2024-07-23T11:45:00.269543Z",
     "start_time": "2024-07-23T11:45:00.237878Z"
    }
   },
   "cell_type": "code",
   "source": [
    "dataframe1['species'] = dataframe1['species'].map({'Iris-setosa': 1, 'Iris-versicolor': 2, 'Iris-virginica': 3})\n",
    "\n",
    "A = dataframe1.iloc[:, :-1]    \n",
    "b = dataframe1.iloc[:, -1] \n",
    "\n",
    "X_train, X_test, y_train, y_test = train_test_split(A, b, test_size=0.2, random_state=0)"
   ],
   "id": "1aeb60dc03f8c22b",
   "outputs": [],
   "execution_count": 5
  },
  {
   "metadata": {
    "ExecuteTime": {
     "end_time": "2024-07-23T11:47:13.689989Z",
     "start_time": "2024-07-23T11:47:13.651329Z"
    }
   },
   "cell_type": "code",
   "source": [
    "knn = KNeighborsClassifier()\n",
    "knn.fit(X_train, y_train)\n",
    "\n",
    "predictions = knn.predict(X_test)"
   ],
   "id": "870d0a24c93dcf5b",
   "outputs": [],
   "execution_count": 6
  },
  {
   "metadata": {
    "ExecuteTime": {
     "end_time": "2024-07-23T11:47:39.450872Z",
     "start_time": "2024-07-23T11:47:39.407440Z"
    }
   },
   "cell_type": "code",
   "source": [
    "accuracy = accuracy_score(y_test, predictions)\n",
    "matrix = confusion_matrix(y_test, predictions)\n",
    "report = classification_report(y_test, predictions)\n",
    "\n",
    "matrix_df = pd.DataFrame(matrix)\n",
    "\n",
    "print(f'Accuracy: {accuracy:.6%}')\n",
    "print(f'Confusion Matrix: \\n {matrix}')"
   ],
   "id": "bb0f47ac7ead0794",
   "outputs": [
    {
     "name": "stdout",
     "output_type": "stream",
     "text": [
      "Accuracy: 96.666667%\n",
      "Confusion Matrix: \n",
      " [[11  0  0]\n",
      " [ 0 12  1]\n",
      " [ 0  0  6]]\n"
     ]
    }
   ],
   "execution_count": 7
  },
  {
   "metadata": {
    "ExecuteTime": {
     "end_time": "2024-07-23T11:48:24.966932Z",
     "start_time": "2024-07-23T11:48:24.955379Z"
    }
   },
   "cell_type": "code",
   "source": [
    "import pickle\n",
    "pickle_out1 = open('knn.pkl', 'wb')\n",
    "pickle.dump(knn, pickle_out1)\n",
    "pickle_out1.close()"
   ],
   "id": "f7cc9e8cdf4ed64c",
   "outputs": [],
   "execution_count": 8
  },
  {
   "metadata": {},
   "cell_type": "code",
   "outputs": [],
   "execution_count": null,
   "source": "",
   "id": "39abcc43ff5f8024"
  }
 ],
 "metadata": {
  "kernelspec": {
   "display_name": "Python 3",
   "language": "python",
   "name": "python3"
  },
  "language_info": {
   "codemirror_mode": {
    "name": "ipython",
    "version": 2
   },
   "file_extension": ".py",
   "mimetype": "text/x-python",
   "name": "python",
   "nbconvert_exporter": "python",
   "pygments_lexer": "ipython2",
   "version": "2.7.6"
  }
 },
 "nbformat": 4,
 "nbformat_minor": 5
}
