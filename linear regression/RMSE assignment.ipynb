{
 "cells": [
  {
   "cell_type": "code",
   "execution_count": null,
   "id": "initial_id",
   "metadata": {
    "collapsed": true
   },
   "outputs": [],
   "source": [
    "# 50 50\n",
    "# 80 20\n",
    "# 90 10\n",
    "# 75 25\n",
    "\n",
    "# train - test\n",
    "\n",
    "# root mean square\n",
    "# root mean square error"
   ]
  },
  {
   "metadata": {},
   "cell_type": "code",
   "outputs": [],
   "execution_count": null,
   "source": [
    "import pandas as pd\n",
    "\n",
    "nyc = pd.read_csv(r\"C:\\Users\\Ryan\\Desktop\\summer 24\\AI\\datasetstuff\\linear regression\\ave_hi_nyc_jan_1895-2018.csv\", header='infer')"
   ],
   "id": "e680e9549acb1849"
  },
  {
   "metadata": {},
   "cell_type": "code",
   "outputs": [],
   "execution_count": null,
   "source": "nyc['Date'] = nyc.Date.floordiv(100).astype(int)",
   "id": "24676035b9648e3d"
  },
  {
   "metadata": {},
   "cell_type": "code",
   "outputs": [],
   "execution_count": null,
   "source": [
    "from sklearn.linear_model import LinearRegression\n",
    "from sklearn.model_selection import train_test_split\n",
    "from math import sqrt\n",
    "from sklearn.metrics import mean_squared_error\n",
    "import numpy as np\n",
    "import matplotlib.pyplot as plt\n",
    "\n",
    "X_train, X_test, y_train, y_test= train_test_split(nyc.Date.values.reshape(-1,1), nyc.Temp.values.reshape(-1,1), random_state=11)"
   ],
   "id": "6ea87f6f952a000f"
  },
  {
   "metadata": {},
   "cell_type": "code",
   "outputs": [],
   "execution_count": null,
   "source": [
    "linreg = LinearRegression()\n",
    "linreg.fit(X_train, y_train)\n",
    "splits = [0.5, 0.25, 0.2, 0.1]\n",
    "root_errors = []\n",
    "\n",
    "for split in splits:\n",
    "    predictions = linreg.predict(X_test)\n",
    "    mse = mean_squared_error(y_test, predictions)\n",
    "    root_errors.append(sqrt(mse))"
   ],
   "id": "33b58844d086f2a2"
  }
 ],
 "metadata": {
  "kernelspec": {
   "display_name": "Python 3",
   "language": "python",
   "name": "python3"
  },
  "language_info": {
   "codemirror_mode": {
    "name": "ipython",
    "version": 2
   },
   "file_extension": ".py",
   "mimetype": "text/x-python",
   "name": "python",
   "nbconvert_exporter": "python",
   "pygments_lexer": "ipython2",
   "version": "2.7.6"
  }
 },
 "nbformat": 4,
 "nbformat_minor": 5
}
